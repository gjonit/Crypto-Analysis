{
 "cells": [
  {
   "cell_type": "code",
   "execution_count": 2,
   "metadata": {},
   "outputs": [],
   "source": [
    "from binance.client import Client\n",
    "import matplotlib.pyplot as plt\n",
    "import pandas as pd\n",
    "import numpy as np\n",
    "from datetime import datetime, timedelta\n",
    "from scipy.stats import norm\n",
    "\n",
    "#add the API Key\n",
    "api_key = ''\n",
    "\n",
    "#add the Secret Key\n",
    "api_secret = ''\n",
    "client = Client(api_key, api_secret)"
   ]
  },
  {
   "cell_type": "code",
   "execution_count": 30,
   "metadata": {},
   "outputs": [],
   "source": [
    "#Interval of 4 hours with 1 min bars START: 11/01/2020 @ 9:00am (UTC)      END = 11/01/2020 @ 12:59pm (UTC)\n",
    "ltcusdt = client.get_historical_klines(symbol= 'LTCUSDT', interval= Client.KLINE_INTERVAL_1MINUTE, start_str=\"1604221200\",end_str = \"1604235540\")\n",
    "ethbtc = client.get_historical_klines(symbol= 'ETHBTC', interval= Client.KLINE_INTERVAL_1MINUTE, start_str=\"1604221200\",end_str = \"1604235540\")\n",
    "xrpusdt = client.get_historical_klines(symbol= 'XRPUSDT', interval= Client.KLINE_INTERVAL_1MINUTE, start_str=\"1604221200\",end_str = \"1604235540\")"
   ]
  },
  {
   "cell_type": "code",
   "execution_count": 31,
   "metadata": {},
   "outputs": [],
   "source": [
    "#Saves the data of each pair in a Pandas Dataframe\n",
    "df_one = pd.DataFrame(ltcusdt)\n",
    "df_two = pd.DataFrame(ethbtc)\n",
    "df_three = pd.DataFrame(xrpusdt)"
   ]
  },
  {
   "cell_type": "markdown",
   "metadata": {},
   "source": [
    "# 1. TIME\n",
    "### Scrapes the time out of the dataframe."
   ]
  },
  {
   "cell_type": "code",
   "execution_count": 5,
   "metadata": {},
   "outputs": [],
   "source": [
    "temp_date = df_one[0]\n",
    "date = []\n",
    "\n",
    "for time in temp_date.unique():\n",
    "    reada = datetime.fromtimestamp(int(time/1000))\n",
    "    date.append(reada)\n",
    "\n",
    "time_df = pd.DataFrame(date)"
   ]
  },
  {
   "cell_type": "markdown",
   "metadata": {},
   "source": [
    "# 2. PRICES"
   ]
  },
  {
   "cell_type": "code",
   "execution_count": 6,
   "metadata": {},
   "outputs": [],
   "source": [
    "#Prices for LTCUSDT\n",
    "ol_price_one = df_one[4]\n",
    "prices_one = []\n",
    "\n",
    "for i in ol_price_one:\n",
    "    prices_one.append(float(i))\n",
    "    \n",
    "df_one_price = pd.DataFrame(prices_one)\n",
    "\n",
    "\n",
    "\n",
    "#Price for ETHBTC\n",
    "ol_price_two = df_two[4]\n",
    "prices_two = []\n",
    "\n",
    "for i in ol_price_two:\n",
    "    prices_two.append(float(i))\n",
    "    \n",
    "df_two_price = pd.DataFrame(prices_two)\n",
    "\n",
    "\n",
    "\n",
    "#Price for XRPUSDT\n",
    "ol_price_three = df_three[4]\n",
    "prices_three = []\n",
    "\n",
    "for i in ol_price_three:\n",
    "    prices_three.append(float(i))\n",
    "    \n",
    "df_three_price = pd.DataFrame(prices_three)\n",
    "\n",
    "prices = pd.concat([df_one_price, df_two_price,df_three_price],axis =1)\n",
    "prices.columns = ['LTCUSD Price', 'ETHBTC Price', 'XRPUSDT Price']\n",
    "\n",
    "\n"
   ]
  },
  {
   "cell_type": "markdown",
   "metadata": {},
   "source": [
    "# 3. VOLUMES\n",
    "#### Parsing the Volume of each pair."
   ]
  },
  {
   "cell_type": "code",
   "execution_count": 7,
   "metadata": {},
   "outputs": [],
   "source": [
    "#Volume for LTCUSDT\n",
    "ol_volume_one = df_one[5]\n",
    "volume_one = []\n",
    "\n",
    "for i in ol_volume_one:\n",
    "    volume_one.append(float(i))\n",
    "df_one_volume = pd.DataFrame(volume_one)\n",
    "\n",
    "\n",
    "\n",
    "#Volume for ETHBTC\n",
    "ol_volume_two = df_two[5]\n",
    "volume_two = []\n",
    "\n",
    "for i in ol_volume_two:\n",
    "    volume_two.append(float(i))\n",
    "df_two_volume = pd.DataFrame(volume_two)\n",
    "\n",
    "\n",
    "#Volume for XRPUSDT\n",
    "ol_volume_three = df_three[5]\n",
    "volume_three = []\n",
    "\n",
    "for i in ol_volume_three:\n",
    "    volume_three.append(float(i))\n",
    "df_three_volume = pd.DataFrame(volume_three)\n",
    "\n",
    "volumes = pd.concat([df_one_volume, df_two_volume,df_three_volume],axis =1)\n",
    "volumes.columns = ['LTCUSD Volume', 'ETHBTC Volume', 'XRPUSDT Volume']"
   ]
  },
  {
   "cell_type": "markdown",
   "metadata": {},
   "source": [
    "# 4. PCT change"
   ]
  },
  {
   "cell_type": "code",
   "execution_count": 8,
   "metadata": {},
   "outputs": [],
   "source": [
    "#PCT CHNAGE LTCUSD\n",
    "df_one['pct_change_LTCUSD'] = df_one_price.pct_change()\n",
    "pct_change_one = df_one['pct_change_LTCUSD']\n",
    "df_pct_change_one = pd.DataFrame(pct_change_one)\n",
    "\n",
    "\n",
    "#PCT CHNAGE ETHBTC\n",
    "df_two['pct_change_ETHBTC'] = df_two_price.pct_change()\n",
    "pct_change_two = df_two['pct_change_ETHBTC']\n",
    "df_pct_change_two = pd.DataFrame(pct_change_two)\n",
    "\n",
    "#PCT CHNAGE XRPUSDT\n",
    "df_three['pct_change_XRPUSDT'] = df_three_price.pct_change()\n",
    "pct_change_three = df_three['pct_change_XRPUSDT']\n",
    "df_pct_change_three = pd.DataFrame(pct_change_three)\n",
    "\n",
    "pct = pd.concat([df_pct_change_one,df_pct_change_two, df_pct_change_three], axis = 1)\n"
   ]
  },
  {
   "cell_type": "markdown",
   "metadata": {},
   "source": [
    "# 5. Log Return"
   ]
  },
  {
   "cell_type": "code",
   "execution_count": 9,
   "metadata": {},
   "outputs": [],
   "source": [
    "#LOG Return for LTCUSD\n",
    "df_one['log_ret_LTCUSD'] = np.log(df_one_price) - np.log(df_one_price.shift(1))\n",
    "log_ret_one = df_one['log_ret_LTCUSD']\n",
    "df_log_ret_one = pd.DataFrame(log_ret_one)\n",
    "\n",
    "#LOG Return for ETHBTC\n",
    "df_two['log_ret_ETHBTC'] = np.log(df_two_price) - np.log(df_two_price.shift(1))\n",
    "log_ret_two = df_two['log_ret_ETHBTC']\n",
    "df_log_ret_two = pd.DataFrame(log_ret_two)\n",
    "\n",
    "#LOG Return for XRPUSDT\n",
    "df_three['log_ret_XRPUSDT'] = np.log(df_three_price) - np.log(df_three_price.shift(1))\n",
    "log_ret_three = df_three['log_ret_XRPUSDT']\n",
    "df_log_ret_three = pd.DataFrame(log_ret_three)"
   ]
  },
  {
   "cell_type": "markdown",
   "metadata": {},
   "source": [
    "# 6. Conacting the Data sets"
   ]
  },
  {
   "cell_type": "code",
   "execution_count": 10,
   "metadata": {},
   "outputs": [],
   "source": [
    "first_pair = pd.concat([time_df, df_one_price, df_one_volume, df_pct_change_one, df_log_ret_one], axis = 1)\n",
    "first_pair.columns = ['Time', 'Price', 'Volume', 'Pct Change', 'Log return']\n",
    "\n",
    "second_pair = pd.concat([time_df, df_two_price, df_two_volume, df_pct_change_two, df_log_ret_two], axis = 1)\n",
    "second_pair.columns = ['Time', 'Price', 'Volume', 'Pct Change', 'Log return']\n",
    "\n",
    "third_pair = pd.concat([time_df, df_three_price, df_three_volume, df_pct_change_three, df_log_ret_three], axis = 1)\n",
    "third_pair.columns = ['Time', 'Price', 'Volume', 'Pct Change', 'Log return']"
   ]
  },
  {
   "cell_type": "code",
   "execution_count": 11,
   "metadata": {
    "scrolled": true
   },
   "outputs": [
    {
     "data": {
      "text/plain": [
       "<matplotlib.axes._subplots.AxesSubplot at 0x7fe3289ede80>"
      ]
     },
     "execution_count": 11,
     "metadata": {},
     "output_type": "execute_result"
    },
    {
     "data": {
      "image/png": "[encoded data removed]",
      "text/plain": [
       "<Figure size 432x288 with 1 Axes>"
      ]
     },
     "metadata": {
      "needs_background": "light"
     },
     "output_type": "display_data"
    }
   ],
   "source": [
    "returns = pd.concat([df_pct_change_one,df_pct_change_two,df_pct_change_three],axis = 1)\n",
    "returns = returns - returns.mean(skipna = True)\n",
    "returns.plot()"
   ]
  },
  {
   "cell_type": "code",
   "execution_count": 12,
   "metadata": {},
   "outputs": [],
   "source": [
    "#WEIGHTS 2\n",
    "def scale(x):\n",
    "    return x / np.sum(np.abs(x))\n",
    "\n",
    "weights = scale(np.random.random(3))\n",
    "\n"
   ]
  },
  {
   "cell_type": "markdown",
   "metadata": {},
   "source": [
    "# 7. Value at Risk"
   ]
  },
  {
   "cell_type": "code",
   "execution_count": 13,
   "metadata": {},
   "outputs": [
    {
     "data": {
      "text/plain": [
       "-0.4771939624129164"
      ]
     },
     "execution_count": 13,
     "metadata": {},
     "output_type": "execute_result"
    }
   ],
   "source": [
    "#200 is random for now\n",
    "def value_at_risk(val_invest, returns, weights, alf = 0.95, lookback_mins = 80):\n",
    "    returns = returns.fillna(0.0)\n",
    "    port_returns = returns.iloc[-lookback_mins:].dot(weights)\n",
    "    return np.percentile(port_returns, 100 * (1- alf )) * val_invest\n",
    "    \n",
    "val_risk = value_at_risk(1000, returns, weights,0.95)\n",
    "val_risk"
   ]
  },
  {
   "cell_type": "markdown",
   "metadata": {},
   "source": [
    "## 7.1 Plotting Value at Risk"
   ]
  },
  {
   "cell_type": "code",
   "execution_count": 14,
   "metadata": {
    "scrolled": true
   },
   "outputs": [
    {
     "data": {
      "image/png": "[encoded data removed]",
      "text/plain": [
       "<Figure size 700x350 with 1 Axes>"
      ]
     },
     "metadata": {},
     "output_type": "display_data"
    }
   ],
   "source": [
    "from matplotlib.pyplot import figure\n",
    "\n",
    "\n",
    "N = 240#number of rows\n",
    "VaRs = np.zeros((N,1))\n",
    "\n",
    "for i in range(N):\n",
    "    VaRs[i] = value_at_risk(1000,returns, weights, lookback_mins = i)\n",
    "\n",
    "    \n",
    "figure(num=None, figsize=(10, 5), dpi=70, facecolor='w', edgecolor='b')\n",
    "plt.plot(VaRs)\n",
    "\n",
    "plt.xticks(np.arange(251, step = 10))\n",
    "plt.xlabel('Lookback Windows')\n",
    "plt.ylabel('VaR');\n"
   ]
  },
  {
   "cell_type": "markdown",
   "metadata": {},
   "source": [
    "# CVAR (ES)"
   ]
  },
  {
   "cell_type": "code",
   "execution_count": 15,
   "metadata": {},
   "outputs": [],
   "source": [
    "def cvar (val_invest, returns, weights, alf = 0.95, lookback_mins = 80):\n",
    "    var = value_at_risk(val_invest, returns, weights, alf = 0.95, lookback_mins = 80)\n",
    "    returns = returns.fillna(0.0)\n",
    "    port_returns = returns.iloc[-lookback_mins:].dot(weights)\n",
    "    \n",
    "    var_pct_loss = var / val_invest\n",
    "    \n",
    "    return val_invest * np.nanmean(port_returns[port_returns < var_pct_loss])"
   ]
  },
  {
   "cell_type": "code",
   "execution_count": 16,
   "metadata": {},
   "outputs": [
    {
     "data": {
      "text/plain": [
       "-0.5518416140052123"
      ]
     },
     "execution_count": 16,
     "metadata": {},
     "output_type": "execute_result"
    }
   ],
   "source": [
    "ES = cvar(1000, returns, weights, lookback_mins=80)\n",
    "ES"
   ]
  },
  {
   "cell_type": "markdown",
   "metadata": {},
   "source": [
    "## 8.1 Plotting Expected Shortfall"
   ]
  },
  {
   "cell_type": "code",
   "execution_count": 29,
   "metadata": {},
   "outputs": [
    {
     "data": {
      "image/png": "[encoded data removed]",
      "text/plain": [
       "<Figure size 700x350 with 1 Axes>"
      ]
     },
     "metadata": {},
     "output_type": "display_data"
    }
   ],
   "source": [
    "N = 240#number of rows\n",
    "Es = np.zeros((N,1))\n",
    "\n",
    "for i in range(N):\n",
    "    Es[i] = cvar(1000,returns, weights, lookback_mins = i)\n",
    "\n",
    "    \n",
    "figure(num=None, figsize=(10, 5), dpi=70, facecolor='w', edgecolor='b')\n",
    "plt.plot(Es)\n",
    "\n",
    "plt.xticks(np.arange(251, step = 10))\n",
    "plt.xlabel('Lookback Windows')\n",
    "plt.ylabel('Expected Shortfall');"
   ]
  },
  {
   "cell_type": "markdown",
   "metadata": {},
   "source": [
    "# TRYING MYSQL DB NOW"
   ]
  },
  {
   "cell_type": "code",
   "execution_count": 19,
   "metadata": {},
   "outputs": [
    {
     "data": {
      "text/plain": [
       "<pymysql.cursors.Cursor at 0x7fe328a96ee0>"
      ]
     },
     "execution_count": 19,
     "metadata": {},
     "output_type": "execute_result"
    }
   ],
   "source": [
    "import pymysql\n",
    "db = pymysql.connect('mytest.cgnjdy7cjkjg.us-east-2.rds.amazonaws.com','mainadmin','kitaraime')\n",
    "cursor = db.cursor()\n",
    "cursor"
   ]
  },
  {
   "cell_type": "code",
   "execution_count": null,
   "metadata": {},
   "outputs": [],
   "source": [
    "#Creates the DataBase BlockChain\n",
    "sql = '''create database BlockChain'''\n",
    "cursor.execute(sql)"
   ]
  },
  {
   "cell_type": "code",
   "execution_count": 21,
   "metadata": {},
   "outputs": [
    {
     "data": {
      "text/plain": [
       "0"
      ]
     },
     "execution_count": 21,
     "metadata": {},
     "output_type": "execute_result"
    }
   ],
   "source": [
    "sql = '''use BlockChain'''\n",
    "cursor.execute(sql)"
   ]
  },
  {
   "cell_type": "code",
   "execution_count": 22,
   "metadata": {},
   "outputs": [],
   "source": [
    "cursor.connection.commit()"
   ]
  },
  {
   "cell_type": "code",
   "execution_count": 24,
   "metadata": {},
   "outputs": [],
   "source": [
    "#Setting the first numbers of each pairs percentage change and log returns because their elements are 'nan'\n",
    "import warnings\n",
    "warnings.filterwarnings('ignore')\n",
    "log_ret_one[0] = 0\n",
    "pct_change_one[0] = 0\n",
    "log_ret_two[0] = 0\n",
    "pct_change_two[0] = 0\n",
    "log_ret_three[0] = 0\n",
    "pct_change_three[0] = 0"
   ]
  },
  {
   "cell_type": "markdown",
   "metadata": {},
   "source": [
    "# LTCUSDT Table"
   ]
  },
  {
   "cell_type": "code",
   "execution_count": 254,
   "metadata": {},
   "outputs": [
    {
     "data": {
      "text/plain": [
       "0"
      ]
     },
     "execution_count": 254,
     "metadata": {},
     "output_type": "execute_result"
    }
   ],
   "source": [
    "sql = '''\n",
    "\n",
    "create table Pair_one(\n",
    "\n",
    "id int not null auto_increment, \n",
    "\n",
    "price JSON,\n",
    "volume JSON,\n",
    "pc JSON,\n",
    "log JSON,\n",
    "primary key(id)\n",
    "\n",
    "); '''\n",
    "cursor.execute(sql)"
   ]
  },
  {
   "cell_type": "code",
   "execution_count": 255,
   "metadata": {},
   "outputs": [],
   "source": [
    "for p,v,c,l in zip( ol_price_one,ol_volume_one, pct_change_one, log_ret_one):\n",
    "    \n",
    "    pr = {\"price\" : p}\n",
    "    vo = {\"vol\" : v}\n",
    "    cc = {\"pct\": c}\n",
    "    lr = {\"lgr\": l}\n",
    "    \n",
    "    \n",
    "    prr = json.dumps(pr)\n",
    "    voo = json.dumps(vo)\n",
    "    ccc = json.dumps(cc)\n",
    "    lrr = json.dumps(lr)\n",
    "    \n",
    "    sql = '''\n",
    "    INSERT INTO Pair_one(price, volume, pc, log ) VALUES('%s', '%s', '%s', '%s')''' % (prr, voo, ccc, lrr)\n",
    "    \n",
    "    cursor.execute(sql)\n",
    "    db.commit()"
   ]
  },
  {
   "cell_type": "markdown",
   "metadata": {},
   "source": [
    "# ETHBTC Table"
   ]
  },
  {
   "cell_type": "code",
   "execution_count": 257,
   "metadata": {},
   "outputs": [
    {
     "data": {
      "text/plain": [
       "0"
      ]
     },
     "execution_count": 257,
     "metadata": {},
     "output_type": "execute_result"
    }
   ],
   "source": [
    "sql = '''\n",
    "\n",
    "create table Pair_two(\n",
    "\n",
    "id int not null auto_increment, \n",
    "\n",
    "price JSON,\n",
    "volume JSON,\n",
    "pc JSON,\n",
    "log JSON,\n",
    "primary key(id)\n",
    "\n",
    "); '''\n",
    "cursor.execute(sql)"
   ]
  },
  {
   "cell_type": "code",
   "execution_count": 258,
   "metadata": {},
   "outputs": [],
   "source": [
    "for p,v,c,l in zip( ol_price_two,ol_volume_two, pct_change_two, log_ret_two):\n",
    "    \n",
    "    pr = {\"price\" : p}\n",
    "    vo = {\"vol\" : v}\n",
    "    cc = {\"pct\": c}\n",
    "    lr = {\"lgr\": l}\n",
    "    \n",
    "    \n",
    "    prr = json.dumps(pr)\n",
    "    voo = json.dumps(vo)\n",
    "    ccc = json.dumps(cc)\n",
    "    lrr = json.dumps(lr)\n",
    "    \n",
    "    sql = '''\n",
    "    INSERT INTO Pair_two(price, volume, pc, log ) VALUES('%s', '%s', '%s', '%s')''' % (prr, voo, ccc, lrr)\n",
    "    \n",
    "    cursor.execute(sql)\n",
    "    db.commit()"
   ]
  },
  {
   "cell_type": "markdown",
   "metadata": {},
   "source": [
    "# XRPUSDT Table"
   ]
  },
  {
   "cell_type": "code",
   "execution_count": 259,
   "metadata": {},
   "outputs": [
    {
     "data": {
      "text/plain": [
       "0"
      ]
     },
     "execution_count": 259,
     "metadata": {},
     "output_type": "execute_result"
    }
   ],
   "source": [
    "sql = '''\n",
    "\n",
    "create table Pair_three(\n",
    "\n",
    "id int not null auto_increment, \n",
    "\n",
    "price JSON,\n",
    "volume JSON,\n",
    "pc JSON,\n",
    "log JSON,\n",
    "primary key(id)\n",
    "\n",
    "); '''\n",
    "cursor.execute(sql)"
   ]
  },
  {
   "cell_type": "code",
   "execution_count": 260,
   "metadata": {},
   "outputs": [],
   "source": [
    "for p,v,c,l in zip( ol_price_three,ol_volume_three, pct_change_three, log_ret_three):\n",
    "    \n",
    "    pr = {\"price\" : p}\n",
    "    vo = {\"vol\" : v}\n",
    "    cc = {\"pct\": c}\n",
    "    lr = {\"lgr\": l}\n",
    "    \n",
    "    \n",
    "    prr = json.dumps(pr)\n",
    "    voo = json.dumps(vo)\n",
    "    ccc = json.dumps(cc)\n",
    "    lrr = json.dumps(lr)\n",
    "    \n",
    "    sql = '''\n",
    "    INSERT INTO Pair_three(price, volume, pc, log ) VALUES('%s', '%s', '%s', '%s')''' % (prr, voo, ccc, lrr)\n",
    "    \n",
    "    cursor.execute(sql)\n",
    "    db.commit()"
   ]
  },
  {
   "cell_type": "markdown",
   "metadata": {},
   "source": [
    "# Result Table"
   ]
  },
  {
   "cell_type": "code",
   "execution_count": 27,
   "metadata": {},
   "outputs": [
    {
     "data": {
      "text/plain": [
       "0"
      ]
     },
     "execution_count": 27,
     "metadata": {},
     "output_type": "execute_result"
    }
   ],
   "source": [
    "sql = '''\n",
    "\n",
    "create table Analysis_Result(\n",
    "\n",
    "Value_at_Risk FLOAT,\n",
    "Expected_Shortfall FLOAT\n",
    "); '''\n",
    "cursor.execute(sql)"
   ]
  },
  {
   "cell_type": "code",
   "execution_count": 28,
   "metadata": {},
   "outputs": [],
   "source": [
    "sql = '''\n",
    "    INSERT INTO Analysis_Result(Value_at_Risk, Expected_Shortfall) VALUES('%s', '%s')''' % (val_risk, ES)\n",
    "\n",
    "cursor.execute(sql)\n",
    "db.commit()"
   ]
  },
  {
   "cell_type": "code",
   "execution_count": null,
   "metadata": {},
   "outputs": [],
   "source": []
  }
 ],
 "metadata": {
  "kernelspec": {
   "display_name": "Python 3.8.3 64-bit",
   "language": "python",
   "name": "python38364bite0a7300659514e198535447135130a16"
  },
  "language_info": {
   "codemirror_mode": {
    "name": "ipython",
    "version": 3
   },
   "file_extension": ".py",
   "mimetype": "text/x-python",
   "name": "python",
   "nbconvert_exporter": "python",
   "pygments_lexer": "ipython3",
   "version": "3.8.3"
  }
 },
 "nbformat": 4,
 "nbformat_minor": 4
}
